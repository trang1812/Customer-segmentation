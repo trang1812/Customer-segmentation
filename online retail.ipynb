{
 "cells": [
  {
   "cell_type": "markdown",
   "id": "19da859e",
   "metadata": {},
   "source": [
    "# Import library"
   ]
  },
  {
   "cell_type": "code",
   "execution_count": 3,
   "id": "55b45b69",
   "metadata": {},
   "outputs": [],
   "source": [
    "import pyspark\n",
    "from pyspark.sql import SparkSession\n",
    "from pyspark.sql import functions as F\n",
    "from pyspark.sql.functions import *\n",
    "from pyspark.sql.types import *"
   ]
  },
  {
   "cell_type": "markdown",
   "id": "bfc470aa",
   "metadata": {},
   "source": [
    "# Import data"
   ]
  },
  {
   "cell_type": "code",
   "execution_count": 4,
   "id": "341585fb",
   "metadata": {},
   "outputs": [],
   "source": [
    "spark = SparkSession.builder.appName(\"Ecommerce\").getOrCreate()"
   ]
  },
  {
   "cell_type": "code",
   "execution_count": 5,
   "id": "4ee0260f",
   "metadata": {},
   "outputs": [],
   "source": [
    "#import data\n",
    "df = spark.read.csv('Online Retail.csv', header=True)"
   ]
  },
  {
   "cell_type": "markdown",
   "id": "31ace163",
   "metadata": {},
   "source": [
    "# Check data"
   ]
  },
  {
   "cell_type": "code",
   "execution_count": 6,
   "id": "6d6dc4b4",
   "metadata": {},
   "outputs": [
    {
     "name": "stdout",
     "output_type": "stream",
     "text": [
      "root\n",
      " |-- InvoiceNo: string (nullable = true)\n",
      " |-- StockCode: string (nullable = true)\n",
      " |-- Description: string (nullable = true)\n",
      " |-- Quantity: string (nullable = true)\n",
      " |-- InvoiceDate: string (nullable = true)\n",
      " |-- UnitPrice: string (nullable = true)\n",
      " |-- CustomerID: string (nullable = true)\n",
      " |-- Country: string (nullable = true)\n",
      "\n"
     ]
    }
   ],
   "source": [
    "df.printSchema()"
   ]
  },
  {
   "cell_type": "code",
   "execution_count": 7,
   "id": "bccb49d7",
   "metadata": {},
   "outputs": [
    {
     "name": "stdout",
     "output_type": "stream",
     "text": [
      "+---------+---------+--------------------+--------+---------------+---------+----------+--------------+\n",
      "|InvoiceNo|StockCode|         Description|Quantity|    InvoiceDate|UnitPrice|CustomerID|       Country|\n",
      "+---------+---------+--------------------+--------+---------------+---------+----------+--------------+\n",
      "|   536365|   85123A|WHITE HANGING HEA...|       6|01/12/2010 8:26|     2.55|     17850|United Kingdom|\n",
      "|   536365|    71053| WHITE METAL LANTERN|       6|01/12/2010 8:26|     3.39|     17850|United Kingdom|\n",
      "|   536365|   84406B|CREAM CUPID HEART...|       8|01/12/2010 8:26|     2.75|     17850|United Kingdom|\n",
      "|   536365|   84029G|KNITTED UNION FLA...|       6|01/12/2010 8:26|     3.39|     17850|United Kingdom|\n",
      "|   536365|   84029E|RED WOOLLY HOTTIE...|       6|01/12/2010 8:26|     3.39|     17850|United Kingdom|\n",
      "+---------+---------+--------------------+--------+---------------+---------+----------+--------------+\n",
      "only showing top 5 rows\n",
      "\n"
     ]
    }
   ],
   "source": [
    "df.show(5)"
   ]
  },
  {
   "cell_type": "code",
   "execution_count": 8,
   "id": "0e600962",
   "metadata": {},
   "outputs": [
    {
     "name": "stdout",
     "output_type": "stream",
     "text": [
      "nr of rows:541909 \n",
      "nr of cols: 8\n"
     ]
    }
   ],
   "source": [
    "print(f'nr of rows:{df.count()} \\nnr of cols: {len(df.columns)}')"
   ]
  },
  {
   "cell_type": "code",
   "execution_count": 9,
   "id": "30b0f14a",
   "metadata": {},
   "outputs": [
    {
     "name": "stdout",
     "output_type": "stream",
     "text": [
      "+---------+---------+-----------+--------+-----------+---------+----------+-------+\n",
      "|InvoiceNo|StockCode|Description|Quantity|InvoiceDate|UnitPrice|CustomerID|Country|\n",
      "+---------+---------+-----------+--------+-----------+---------+----------+-------+\n",
      "|        0|        0|       1454|       0|          0|        0|    135080|      0|\n",
      "+---------+---------+-----------+--------+-----------+---------+----------+-------+\n",
      "\n"
     ]
    }
   ],
   "source": [
    "#count NULL\n",
    "from pyspark.sql.functions import col, when, count\n",
    "df.select([count(when(col(c).isNull(), c)).alias(c) for c in df.columns]).show()"
   ]
  },
  {
   "cell_type": "code",
   "execution_count": 10,
   "id": "a5597ee5",
   "metadata": {},
   "outputs": [
    {
     "name": "stdout",
     "output_type": "stream",
     "text": [
      "+-------+------------------+-----------------+\n",
      "|summary|          Quantity|        UnitPrice|\n",
      "+-------+------------------+-----------------+\n",
      "|  count|            541909|           541909|\n",
      "|   mean|  9.55224954743324|4.611113626088333|\n",
      "| stddev|218.08115785023458|96.75985306118008|\n",
      "|    min|                -1|        -11062.06|\n",
      "|    25%|               1.0|             1.25|\n",
      "|    50%|               3.0|             2.08|\n",
      "|    75%|              10.0|             4.13|\n",
      "|    max|               992|            99.96|\n",
      "+-------+------------------+-----------------+\n",
      "\n"
     ]
    }
   ],
   "source": [
    "#statistics summary\n",
    "df.select('Quantity', 'UnitPrice').summary().show()"
   ]
  },
  {
   "cell_type": "code",
   "execution_count": 11,
   "id": "bbdbd0f0",
   "metadata": {},
   "outputs": [
    {
     "name": "stdout",
     "output_type": "stream",
     "text": [
      "+---------+---------+----------+\n",
      "|InvoiceNo|StockCode|CustomerID|\n",
      "+---------+---------+----------+\n",
      "|    25900|     4070|      4372|\n",
      "+---------+---------+----------+\n",
      "\n"
     ]
    }
   ],
   "source": [
    "#Number of customers, orders\n",
    "df.select([countDistinct(c).alias(c) for c in ['InvoiceNo', 'StockCode', 'CustomerID']]).show()"
   ]
  },
  {
   "cell_type": "code",
   "execution_count": 12,
   "id": "df490023",
   "metadata": {},
   "outputs": [
    {
     "name": "stdout",
     "output_type": "stream",
     "text": [
      "+---------------+-------------+\n",
      "|        Country|country_count|\n",
      "+---------------+-------------+\n",
      "| United Kingdom|         3950|\n",
      "|        Germany|           95|\n",
      "|         France|           87|\n",
      "|          Spain|           31|\n",
      "|        Belgium|           25|\n",
      "|    Switzerland|           21|\n",
      "|       Portugal|           19|\n",
      "|          Italy|           15|\n",
      "|        Finland|           12|\n",
      "|        Austria|           11|\n",
      "|         Norway|           10|\n",
      "|        Denmark|            9|\n",
      "|Channel Islands|            9|\n",
      "|      Australia|            9|\n",
      "|    Netherlands|            9|\n",
      "|         Sweden|            8|\n",
      "|         Cyprus|            8|\n",
      "|          Japan|            8|\n",
      "|         Poland|            6|\n",
      "|         Greece|            4|\n",
      "+---------------+-------------+\n",
      "only showing top 20 rows\n",
      "\n"
     ]
    }
   ],
   "source": [
    "#orders by countries\n",
    "df.groupBy('Country').agg(countDistinct('CustomerID').alias('country_count')).orderBy(desc('country_count')).show()"
   ]
  },
  {
   "cell_type": "code",
   "execution_count": 13,
   "id": "01953fa5",
   "metadata": {},
   "outputs": [
    {
     "name": "stdout",
     "output_type": "stream",
     "text": [
      "+-------------------+\n",
      "|nr of cancel orders|\n",
      "+-------------------+\n",
      "|               9288|\n",
      "+-------------------+\n",
      "\n",
      "+---------+---------+--------------------+--------+----------------+---------+----------+--------------+--------------+\n",
      "|InvoiceNo|StockCode|         Description|Quantity|     InvoiceDate|UnitPrice|CustomerID|       Country|order_canceled|\n",
      "+---------+---------+--------------------+--------+----------------+---------+----------+--------------+--------------+\n",
      "|  C536379|        D|            Discount|      -1| 01/12/2010 9:41|     27.5|     14527|United Kingdom|             1|\n",
      "|  C536383|   35004C|SET OF 3 COLOURED...|      -1| 01/12/2010 9:49|     4.65|     15311|United Kingdom|             1|\n",
      "|  C536391|    22556|PLASTERS IN TIN C...|     -12|01/12/2010 10:24|     1.65|     17548|United Kingdom|             1|\n",
      "|  C536391|    21984|PACK OF 12 PINK P...|     -24|01/12/2010 10:24|     0.29|     17548|United Kingdom|             1|\n",
      "|  C536391|    21983|PACK OF 12 BLUE P...|     -24|01/12/2010 10:24|     0.29|     17548|United Kingdom|             1|\n",
      "|  C536391|    21980|PACK OF 12 RED RE...|     -24|01/12/2010 10:24|     0.29|     17548|United Kingdom|             1|\n",
      "|  C536391|    21484|CHICK GREY HOT WA...|     -12|01/12/2010 10:24|     3.45|     17548|United Kingdom|             1|\n",
      "|  C536391|    22557|PLASTERS IN TIN V...|     -12|01/12/2010 10:24|     1.65|     17548|United Kingdom|             1|\n",
      "|  C536391|    22553|PLASTERS IN TIN S...|     -24|01/12/2010 10:24|     1.65|     17548|United Kingdom|             1|\n",
      "|  C536506|    22960|JAM MAKING SET WI...|      -6|01/12/2010 12:38|     4.25|     17897|United Kingdom|             1|\n",
      "|  C536543|    22632|HAND WARMER RED R...|      -1|01/12/2010 14:30|      2.1|     17841|United Kingdom|             1|\n",
      "|  C536543|    22355|CHARLOTTE BAG SUK...|      -2|01/12/2010 14:30|     0.85|     17841|United Kingdom|             1|\n",
      "|  C536548|    22244|3 HOOK HANGER MAG...|      -4|01/12/2010 14:33|     1.95|     12472|       Germany|             1|\n",
      "|  C536548|    22242|5 HOOK HANGER MAG...|      -5|01/12/2010 14:33|     1.65|     12472|       Germany|             1|\n",
      "|  C536548|    20914|SET/5 RED RETROSP...|      -1|01/12/2010 14:33|     2.95|     12472|       Germany|             1|\n",
      "|  C536548|    22892|SET OF SALT AND P...|      -7|01/12/2010 14:33|     1.25|     12472|       Germany|             1|\n",
      "|  C536548|    22654|  DELUXE SEWING KIT |      -1|01/12/2010 14:33|     5.95|     12472|       Germany|             1|\n",
      "|  C536548|    22767|TRIPLE PHOTO FRAM...|      -2|01/12/2010 14:33|     9.95|     12472|       Germany|             1|\n",
      "|  C536548|    22333|RETROSPOT PARTY B...|      -1|01/12/2010 14:33|     1.65|     12472|       Germany|             1|\n",
      "|  C536548|    22245|HOOK, 1 HANGER ,M...|      -2|01/12/2010 14:33|     0.85|     12472|       Germany|             1|\n",
      "+---------+---------+--------------------+--------+----------------+---------+----------+--------------+--------------+\n",
      "only showing top 20 rows\n",
      "\n"
     ]
    }
   ],
   "source": [
    "#cancelling order\n",
    "cancel=df.withColumn('order_canceled', F.when(F.col('InvoiceNo').contains('C'), F.lit(1)).otherwise(F.lit(0)))\n",
    "cancel.select(sum(cancel.order_canceled).alias('nr of cancel orders')).show()\n",
    "cancel.filter(cancel.order_canceled == 1).show()"
   ]
  },
  {
   "cell_type": "markdown",
   "id": "4d6cb808",
   "metadata": {},
   "source": [
    "# Data processing"
   ]
  },
  {
   "cell_type": "code",
   "execution_count": 14,
   "id": "add16f1e",
   "metadata": {},
   "outputs": [
    {
     "data": {
      "text/plain": [
       "[('InvoiceNo', 'string'),\n",
       " ('StockCode', 'string'),\n",
       " ('Description', 'string'),\n",
       " ('Quantity', 'int'),\n",
       " ('InvoiceDate', 'timestamp'),\n",
       " ('UnitPrice', 'double'),\n",
       " ('CustomerID', 'string'),\n",
       " ('Country', 'string')]"
      ]
     },
     "execution_count": 14,
     "metadata": {},
     "output_type": "execute_result"
    }
   ],
   "source": [
    "# data type\n",
    "df = df.withColumn(\"Quantity\", col(\"Quantity\").cast(\"integer\"))\n",
    "df = df.withColumn(\"UnitPrice\", col(\"UnitPrice\").cast(\"double\"))\n",
    "df=df.withColumn(\"InvoiceDate\", to_timestamp(col(\"InvoiceDate\"), \"dd/MM/yyyy H:mm\"))\n",
    "\n",
    "#drop nan\n",
    "df=df.na.drop(\"any\")\n",
    "    \n",
    "df.dtypes"
   ]
  },
  {
   "cell_type": "markdown",
   "id": "1686927e",
   "metadata": {},
   "source": [
    "# Feature engineering"
   ]
  },
  {
   "cell_type": "code",
   "execution_count": 15,
   "id": "bf4c07de",
   "metadata": {},
   "outputs": [
    {
     "name": "stdout",
     "output_type": "stream",
     "text": [
      "+-------------------+\n",
      "|   min(InvoiceDate)|\n",
      "+-------------------+\n",
      "|2010-12-01 08:26:00|\n",
      "+-------------------+\n",
      "\n",
      "root\n",
      " |-- CustomerID: string (nullable = true)\n",
      " |-- recency: long (nullable = true)\n",
      "\n"
     ]
    }
   ],
   "source": [
    "#Recency\n",
    "df.select(min(\"InvoiceDate\")).show()\n",
    "df = df.withColumn(\"from_date\", lit(\"10/12/01 08:26\"))\n",
    "df = df.withColumn('from_date',to_timestamp(\"from_date\", 'yy/MM/dd H:mm'))\n",
    "df=df.withColumn('recency',col(\"InvoiceDate\").cast(\"long\") - col('from_date').cast(\"long\"))\n",
    "\n",
    "df_rec=df.groupBy('CustomerID').agg(max('recency').alias('recency'))\n",
    "df_rec.printSchema()"
   ]
  },
  {
   "cell_type": "code",
   "execution_count": 16,
   "id": "986523fc",
   "metadata": {},
   "outputs": [
    {
     "name": "stdout",
     "output_type": "stream",
     "text": [
      "root\n",
      " |-- CustomerID: string (nullable = true)\n",
      " |-- frequency: long (nullable = false)\n",
      "\n",
      "+----------+---------+\n",
      "|CustomerID|frequency|\n",
      "+----------+---------+\n",
      "+----------+---------+\n",
      "\n"
     ]
    }
   ],
   "source": [
    "#Frequency\n",
    "df_freq = df.groupBy('CustomerID').agg(count('InvoiceDate').alias('frequency'))\n",
    "df_freq=df_freq.na.drop(\"any\")\n",
    "df_freq.printSchema()\n",
    "df_freq.filter(col(\"CustomerID\").isNull()).show()"
   ]
  },
  {
   "cell_type": "code",
   "execution_count": 17,
   "id": "ed11993e",
   "metadata": {},
   "outputs": [
    {
     "name": "stdout",
     "output_type": "stream",
     "text": [
      "+----------+--------------+\n",
      "|CustomerID|monetary_value|\n",
      "+----------+--------------+\n",
      "+----------+--------------+\n",
      "\n",
      "root\n",
      " |-- CustomerID: string (nullable = true)\n",
      " |-- monetary_value: double (nullable = true)\n",
      "\n"
     ]
    }
   ],
   "source": [
    "#Monetary Value\n",
    "df_m = df.withColumn('TotalAmount',col(\"Quantity\") * col(\"UnitPrice\"))\n",
    "df_m  = df_m.groupBy('CustomerID').agg(sum('TotalAmount').alias('monetary_value'))\n",
    "df_m.filter(col(\"CustomerID\").isNull()).show()\n",
    "df_m.printSchema()"
   ]
  },
  {
   "cell_type": "code",
   "execution_count": 18,
   "id": "ec687565",
   "metadata": {},
   "outputs": [
    {
     "name": "stdout",
     "output_type": "stream",
     "text": [
      "root\n",
      " |-- CustomerID: string (nullable = true)\n",
      " |-- recency: long (nullable = true)\n",
      " |-- frequency: long (nullable = false)\n",
      " |-- monetary_value: double (nullable = true)\n",
      "\n"
     ]
    }
   ],
   "source": [
    "#Join 3 table\n",
    "df_final=df_rec.join(df_freq,on='CustomerID',how='inner').join(df_m,on='CustomerID',how='inner' )\n",
    "df_final.printSchema()"
   ]
  },
  {
   "cell_type": "code",
   "execution_count": 19,
   "id": "f7f93637",
   "metadata": {},
   "outputs": [],
   "source": [
    "df_final=df_final.where(df_final.monetary_value>=0)"
   ]
  },
  {
   "cell_type": "markdown",
   "id": "afdd0f4b",
   "metadata": {},
   "source": [
    "# Standardization"
   ]
  },
  {
   "cell_type": "code",
   "execution_count": 20,
   "id": "6e29fd48",
   "metadata": {},
   "outputs": [],
   "source": [
    "#Standardization\n",
    "from pyspark.ml.feature import VectorAssembler\n",
    "from pyspark.ml.feature import StandardScaler\n",
    "\n",
    "assemble=VectorAssembler(inputCols=['recency','frequency','monetary_value'], outputCol='features', handleInvalid=\"skip\")\n",
    "assembled_data=assemble.transform(df_final)\n",
    "scale=StandardScaler(inputCol='features',outputCol='standardized')\n",
    "data_scale=scale.fit(assembled_data)\n",
    "data_scale_output=data_scale.transform(assembled_data)"
   ]
  },
  {
   "cell_type": "code",
   "execution_count": 21,
   "id": "2b9e9806",
   "metadata": {},
   "outputs": [
    {
     "name": "stdout",
     "output_type": "stream",
     "text": [
      "+-------+------------------+--------------------+------------------+------------------+\n",
      "|summary|        CustomerID|             recency|         frequency|    monetary_value|\n",
      "+-------+------------------+--------------------+------------------+------------------+\n",
      "|  count|              4329|                4329|              4329|              4329|\n",
      "|   mean|15298.686763686763|2.4476210214830216E7| 93.91707091707092|1920.3730547470518|\n",
      "| stddev| 1721.668045765092|   8565965.975570478|233.45949691089473| 8256.804337753178|\n",
      "|    min|             12346|                5220|                 1|               0.0|\n",
      "|    25%|           13812.0|            20321160|                18|            301.03|\n",
      "|    50%|           15297.0|            28005840|                42| 656.6800000000001|\n",
      "|    75%|           16778.0|            30856440|               102|1624.2099999999996|\n",
      "|    max|             18287|            32243040|              7983| 279489.0199999998|\n",
      "+-------+------------------+--------------------+------------------+------------------+\n",
      "\n"
     ]
    }
   ],
   "source": [
    "data_scale_output.summary().show()"
   ]
  },
  {
   "cell_type": "markdown",
   "id": "91e9a958",
   "metadata": {},
   "source": [
    "# Clustering"
   ]
  },
  {
   "cell_type": "code",
   "execution_count": 22,
   "id": "8f21d78a",
   "metadata": {},
   "outputs": [],
   "source": [
    "# find k\n",
    "from pyspark.ml.clustering import KMeans\n",
    "from pyspark.ml.evaluation import ClusteringEvaluator\n",
    "import numpy as np\n",
    "\n",
    "cost = np.zeros(10)\n",
    "\n",
    "evaluator = ClusteringEvaluator(predictionCol='prediction', featuresCol='standardized',metricName='silhouette', distanceMeasure='squaredEuclidean')\n",
    "\n",
    "for i in range(2,10):\n",
    "    KMeans_algo=KMeans(featuresCol='standardized', k=i)\n",
    "    KMeans_fit=KMeans_algo.fit(data_scale_output)\n",
    "    output=KMeans_fit.transform(data_scale_output)\n",
    "    cost[i] = KMeans_fit.summary.trainingCost"
   ]
  },
  {
   "cell_type": "code",
   "execution_count": 23,
   "id": "3af350d7",
   "metadata": {},
   "outputs": [
    {
     "data": {
      "image/png": "[encoded data removed]",
      "text/plain": [
       "<Figure size 640x480 with 1 Axes>"
      ]
     },
     "metadata": {},
     "output_type": "display_data"
    }
   ],
   "source": [
    "import pandas as pd\n",
    "import pylab as pl\n",
    "df_cost = pd.DataFrame(cost[2:])\n",
    "df_cost.columns = [\"cost\"]\n",
    "new_col = range(2,10)\n",
    "df_cost.insert(0, 'cluster', new_col)\n",
    "pl.plot(df_cost.cluster, df_cost.cost)\n",
    "pl.xlabel('Number of Clusters')\n",
    "pl.ylabel('Score')\n",
    "pl.title('Elbow Curve')\n",
    "pl.show()"
   ]
  },
  {
   "cell_type": "code",
   "execution_count": 24,
   "id": "651dd2c9",
   "metadata": {},
   "outputs": [],
   "source": [
    "#train model with k=5\n",
    "KMeans_algo=KMeans(featuresCol='standardized', k=5)\n",
    "KMeans_fit=KMeans_algo.fit(data_scale_output)"
   ]
  },
  {
   "cell_type": "code",
   "execution_count": 25,
   "id": "2bfa5c16",
   "metadata": {},
   "outputs": [
    {
     "name": "stdout",
     "output_type": "stream",
     "text": [
      "+----------+--------+---------+------------------+--------------------+--------------------+----------+\n",
      "|CustomerID| recency|frequency|    monetary_value|            features|        standardized|prediction|\n",
      "+----------+--------+---------+------------------+--------------------+--------------------+----------+\n",
      "|     16250| 9700860|       24|389.44000000000005|[9700860.0,24.0,3...|[1.13248873830063...|         2|\n",
      "|     15574|16943700|      168| 702.2500000000002|[1.69437E7,168.0,...|[1.97802560135333...|         2|\n",
      "|     15555|31218780|      925|4758.2000000000035|[3.121878E7,925.0...|[3.64451365894211...|         0|\n",
      "|     15271|31643100|      275|           2485.82|[3.16431E7,275.0,...|[3.69404922810152...|         0|\n",
      "|     17714| 4586760|       10|             153.0|[4586760.0,10.0,1...|[0.53546325225679...|         2|\n",
      "+----------+--------+---------+------------------+--------------------+--------------------+----------+\n",
      "only showing top 5 rows\n",
      "\n"
     ]
    }
   ],
   "source": [
    "preds=KMeans_fit.transform(data_scale_output)\n",
    "\n",
    "preds.show(5)"
   ]
  },
  {
   "cell_type": "markdown",
   "id": "c069dd53",
   "metadata": {},
   "source": [
    "# Cluster analysis"
   ]
  },
  {
   "cell_type": "code",
   "execution_count": 26,
   "id": "b199dc23",
   "metadata": {},
   "outputs": [
    {
     "data": {
      "image/png": "[encoded data removed]",
      "text/plain": [
       "<Figure size 640x480 with 1 Axes>"
      ]
     },
     "metadata": {},
     "output_type": "display_data"
    },
    {
     "data": {
      "image/png": "[encoded data removed]",
      "text/plain": [
       "<Figure size 640x480 with 1 Axes>"
      ]
     },
     "metadata": {},
     "output_type": "display_data"
    },
    {
     "data": {
      "image/png": "[encoded data removed]",
      "text/plain": [
       "<Figure size 640x480 with 1 Axes>"
      ]
     },
     "metadata": {},
     "output_type": "display_data"
    }
   ],
   "source": [
    "import matplotlib.pyplot as plt\n",
    "import seaborn as sns\n",
    "\n",
    "df_viz = preds.select('recency','frequency','monetary_value','prediction')\n",
    "df_viz = df_viz.toPandas()\n",
    "avg_df = df_viz.groupby(['prediction'], as_index=False).mean()\n",
    "\n",
    "list1 = ['recency','frequency','monetary_value']\n",
    "\n",
    "for i in list1:\n",
    "    sns.barplot(x='prediction',y=str(i),data=avg_df)\n",
    "    plt.show()"
   ]
  }
 ],
 "metadata": {
  "kernelspec": {
   "display_name": "Python 3 (ipykernel)",
   "language": "python",
   "name": "python3"
  },
  "language_info": {
   "codemirror_mode": {
    "name": "ipython",
    "version": 3
   },
   "file_extension": ".py",
   "mimetype": "text/x-python",
   "name": "python",
   "nbconvert_exporter": "python",
   "pygments_lexer": "ipython3",
   "version": "3.9.7"
  }
 },
 "nbformat": 4,
 "nbformat_minor": 5
}
